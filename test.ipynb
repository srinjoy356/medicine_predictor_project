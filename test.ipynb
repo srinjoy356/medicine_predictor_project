{
 "cells": [
  {
   "cell_type": "code",
   "execution_count": 8,
   "id": "d956ce3d-715f-4749-86da-9aa8819357b4",
   "metadata": {},
   "outputs": [],
   "source": [
    "import pandas as pd\n",
    "sym_des = pd.read_csv(\"datasets/symtoms_df.csv\", index_col=0)"
   ]
  },
  {
   "cell_type": "code",
   "execution_count": 9,
   "id": "49351d74-2ccc-4cab-a6da-246741682a5e",
   "metadata": {},
   "outputs": [
    {
     "data": {
      "text/html": [
       "<div>\n",
       "<style scoped>\n",
       "    .dataframe tbody tr th:only-of-type {\n",
       "        vertical-align: middle;\n",
       "    }\n",
       "\n",
       "    .dataframe tbody tr th {\n",
       "        vertical-align: top;\n",
       "    }\n",
       "\n",
       "    .dataframe thead th {\n",
       "        text-align: right;\n",
       "    }\n",
       "</style>\n",
       "<table border=\"1\" class=\"dataframe\">\n",
       "  <thead>\n",
       "    <tr style=\"text-align: right;\">\n",
       "      <th></th>\n",
       "      <th>Disease</th>\n",
       "      <th>Symptom_1</th>\n",
       "      <th>Symptom_2</th>\n",
       "      <th>Symptom_3</th>\n",
       "      <th>Symptom_4</th>\n",
       "    </tr>\n",
       "  </thead>\n",
       "  <tbody>\n",
       "    <tr>\n",
       "      <th>0</th>\n",
       "      <td>Fungal infection</td>\n",
       "      <td>itching</td>\n",
       "      <td>skin_rash</td>\n",
       "      <td>nodal_skin_eruptions</td>\n",
       "      <td>dischromic _patches</td>\n",
       "    </tr>\n",
       "    <tr>\n",
       "      <th>1</th>\n",
       "      <td>Fungal infection</td>\n",
       "      <td>skin_rash</td>\n",
       "      <td>nodal_skin_eruptions</td>\n",
       "      <td>dischromic _patches</td>\n",
       "      <td>NaN</td>\n",
       "    </tr>\n",
       "    <tr>\n",
       "      <th>2</th>\n",
       "      <td>Fungal infection</td>\n",
       "      <td>itching</td>\n",
       "      <td>nodal_skin_eruptions</td>\n",
       "      <td>dischromic _patches</td>\n",
       "      <td>NaN</td>\n",
       "    </tr>\n",
       "    <tr>\n",
       "      <th>3</th>\n",
       "      <td>Fungal infection</td>\n",
       "      <td>itching</td>\n",
       "      <td>skin_rash</td>\n",
       "      <td>dischromic _patches</td>\n",
       "      <td>NaN</td>\n",
       "    </tr>\n",
       "    <tr>\n",
       "      <th>4</th>\n",
       "      <td>Fungal infection</td>\n",
       "      <td>itching</td>\n",
       "      <td>skin_rash</td>\n",
       "      <td>nodal_skin_eruptions</td>\n",
       "      <td>NaN</td>\n",
       "    </tr>\n",
       "  </tbody>\n",
       "</table>\n",
       "</div>"
      ],
      "text/plain": [
       "            Disease   Symptom_1              Symptom_2              Symptom_3  \\\n",
       "0  Fungal infection     itching              skin_rash   nodal_skin_eruptions   \n",
       "1  Fungal infection   skin_rash   nodal_skin_eruptions    dischromic _patches   \n",
       "2  Fungal infection     itching   nodal_skin_eruptions    dischromic _patches   \n",
       "3  Fungal infection     itching              skin_rash    dischromic _patches   \n",
       "4  Fungal infection     itching              skin_rash   nodal_skin_eruptions   \n",
       "\n",
       "              Symptom_4  \n",
       "0   dischromic _patches  \n",
       "1                   NaN  \n",
       "2                   NaN  \n",
       "3                   NaN  \n",
       "4                   NaN  "
      ]
     },
     "execution_count": 9,
     "metadata": {},
     "output_type": "execute_result"
    }
   ],
   "source": [
    "sym_des.head()"
   ]
  },
  {
   "cell_type": "code",
   "execution_count": 11,
   "id": "41f061de-ae13-4366-8fba-5d194920e3a0",
   "metadata": {},
   "outputs": [
    {
     "data": {
      "text/plain": [
       "array(['itching', ' skin_rash', ' continuous_sneezing', ' shivering',\n",
       "       ' stomach_pain', ' acidity', ' vomiting', ' indigestion',\n",
       "       ' muscle_wasting', ' patches_in_throat', ' fatigue',\n",
       "       ' weight_loss', ' sunken_eyes', ' cough', ' headache',\n",
       "       ' chest_pain', ' back_pain', ' weakness_in_limbs', ' chills',\n",
       "       ' joint_pain', ' yellowish_skin', ' constipation',\n",
       "       ' pain_during_bowel_movements', ' breathlessness', ' cramps',\n",
       "       ' weight_gain', ' mood_swings', ' neck_pain', ' muscle_weakness',\n",
       "       ' stiff_neck', ' pus_filled_pimples', ' burning_micturition',\n",
       "       ' bladder_discomfort', ' high_fever'], dtype=object)"
      ]
     },
     "execution_count": 11,
     "metadata": {},
     "output_type": "execute_result"
    }
   ],
   "source": [
    "sym_des.Symptom_1.unique()"
   ]
  },
  {
   "cell_type": "code",
   "execution_count": 12,
   "id": "b1714a03-a467-4caa-b235-fbc01525bef9",
   "metadata": {},
   "outputs": [
    {
     "data": {
      "text/plain": [
       "array([' skin_rash', ' nodal_skin_eruptions', ' shivering', ' chills',\n",
       "       ' acidity', ' ulcers_on_tongue', ' vomiting', ' yellowish_skin',\n",
       "       ' stomach_pain', ' loss_of_appetite', ' indigestion',\n",
       "       ' patches_in_throat', ' high_fever', ' weight_loss',\n",
       "       ' restlessness', ' sunken_eyes', ' dehydration', ' cough',\n",
       "       ' chest_pain', ' dizziness', ' headache', ' weakness_in_limbs',\n",
       "       ' neck_pain', ' weakness_of_one_body_side', ' fatigue',\n",
       "       ' joint_pain', ' lethargy', ' nausea', ' abdominal_pain',\n",
       "       ' pain_during_bowel_movements', ' pain_in_anal_region',\n",
       "       ' breathlessness', ' sweating', ' cramps', ' bruising',\n",
       "       ' weight_gain', ' cold_hands_and_feets', ' mood_swings',\n",
       "       ' anxiety', ' knee_pain', ' stiff_neck', ' swelling_joints',\n",
       "       ' pus_filled_pimples', ' blackheads', ' bladder_discomfort',\n",
       "       ' foul_smell_of urine', ' skin_peeling', ' blister'], dtype=object)"
      ]
     },
     "execution_count": 12,
     "metadata": {},
     "output_type": "execute_result"
    }
   ],
   "source": [
    "sym_des.Symptom_2.unique()"
   ]
  },
  {
   "cell_type": "code",
   "execution_count": 13,
   "id": "4f8a83a2-1f3d-42aa-abc4-6db20751c0f3",
   "metadata": {},
   "outputs": [
    {
     "data": {
      "text/plain": [
       "array([' nodal_skin_eruptions', ' dischromic _patches', ' chills',\n",
       "       ' watering_from_eyes', ' ulcers_on_tongue', ' vomiting',\n",
       "       ' yellowish_skin', ' nausea', ' stomach_pain',\n",
       "       ' burning_micturition', ' abdominal_pain', ' loss_of_appetite',\n",
       "       ' high_fever', ' extra_marital_contacts', ' restlessness',\n",
       "       ' lethargy', ' dehydration', ' diarrhoea', ' breathlessness',\n",
       "       ' dizziness', ' loss_of_balance', ' headache',\n",
       "       ' blurred_and_distorted_vision', ' neck_pain',\n",
       "       ' weakness_of_one_body_side', ' altered_sensorium', ' fatigue',\n",
       "       ' weight_loss', ' sweating', ' joint_pain', ' dark_urine',\n",
       "       ' swelling_of_stomach', ' cough', ' pain_in_anal_region',\n",
       "       ' bloody_stool', ' chest_pain', ' bruising', ' obesity',\n",
       "       ' cold_hands_and_feets', ' mood_swings', ' anxiety', ' knee_pain',\n",
       "       ' hip_joint_pain', ' swelling_joints', ' movement_stiffness',\n",
       "       ' spinning_movements', ' blackheads', ' scurring',\n",
       "       ' foul_smell_of urine', ' continuous_feel_of_urine',\n",
       "       ' skin_peeling', ' silver_like_dusting', ' blister',\n",
       "       ' red_sore_around_nose'], dtype=object)"
      ]
     },
     "execution_count": 13,
     "metadata": {},
     "output_type": "execute_result"
    }
   ],
   "source": [
    "sym_des.Symptom_3.unique()"
   ]
  },
  {
   "cell_type": "code",
   "execution_count": 14,
   "id": "60ee8ad9-e7f1-4945-9f56-2e44b6ccc47c",
   "metadata": {},
   "outputs": [
    {
     "data": {
      "text/plain": [
       "array([' dischromic _patches', nan, ' watering_from_eyes', ' vomiting',\n",
       "       ' cough', ' nausea', ' loss_of_appetite', ' burning_micturition',\n",
       "       ' spotting_ urination', ' passage_of_gases', ' abdominal_pain',\n",
       "       ' extra_marital_contacts', ' lethargy', ' irregular_sugar_level',\n",
       "       ' diarrhoea', ' breathlessness', ' family_history',\n",
       "       ' loss_of_balance', ' lack_of_concentration',\n",
       "       ' blurred_and_distorted_vision', ' excessive_hunger', ' dizziness',\n",
       "       ' altered_sensorium', ' weight_loss', ' high_fever', ' sweating',\n",
       "       ' headache', ' fatigue', ' dark_urine', ' yellowish_skin',\n",
       "       ' yellowing_of_eyes', ' swelling_of_stomach',\n",
       "       ' distention_of_abdomen', ' bloody_stool', ' irritation_in_anus',\n",
       "       ' chest_pain', ' obesity', ' swollen_legs', ' mood_swings',\n",
       "       ' restlessness', ' hip_joint_pain', ' swelling_joints',\n",
       "       ' movement_stiffness', ' painful_walking', ' spinning_movements',\n",
       "       ' scurring', ' continuous_feel_of_urine', ' silver_like_dusting',\n",
       "       ' small_dents_in_nails', ' red_sore_around_nose',\n",
       "       ' yellow_crust_ooze'], dtype=object)"
      ]
     },
     "execution_count": 14,
     "metadata": {},
     "output_type": "execute_result"
    }
   ],
   "source": [
    "sym_des.Symptom_4.unique()"
   ]
  },
  {
   "cell_type": "code",
   "execution_count": null,
   "id": "7a0416d5-dc71-4fe1-9408-c9fd21518a0d",
   "metadata": {},
   "outputs": [],
   "source": []
  }
 ],
 "metadata": {
  "kernelspec": {
   "display_name": "Python 3 (ipykernel)",
   "language": "python",
   "name": "python3"
  },
  "language_info": {
   "codemirror_mode": {
    "name": "ipython",
    "version": 3
   },
   "file_extension": ".py",
   "mimetype": "text/x-python",
   "name": "python",
   "nbconvert_exporter": "python",
   "pygments_lexer": "ipython3",
   "version": "3.12.5"
  }
 },
 "nbformat": 4,
 "nbformat_minor": 5
}
